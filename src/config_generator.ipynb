{
 "cells": [
  {
   "cell_type": "markdown",
   "metadata": {},
   "source": [
    "# Configuration Generator"
   ]
  },
  {
   "cell_type": "code",
   "execution_count": 1,
   "metadata": {},
   "outputs": [],
   "source": [
    "import json\n",
    "import os\n",
    "import numpy as np\n",
    "import torch \n",
    "\n",
    "configs_dir = \"configs\"\n",
    "os.makedirs(configs_dir, exist_ok=True)\n",
    "\n",
    "def save_config(config, filename):\n",
    "    with open(os.path.join(configs_dir, filename), 'w') as f:\n",
    "        json.dump(config, f, indent=4)\n",
    "    print(f\"Configuration saved to {filename}\")"
   ]
  },
  {
   "cell_type": "markdown",
   "metadata": {},
   "source": [
    "## Model Configuration"
   ]
  },
  {
   "cell_type": "code",
   "execution_count": 2,
   "metadata": {},
   "outputs": [
    {
     "data": {
      "text/plain": [
       "{'in_channels': 1, 'out_channels': 6}"
      ]
     },
     "execution_count": 2,
     "metadata": {},
     "output_type": "execute_result"
    }
   ],
   "source": [
    "model_config = {\n",
    "    'in_channels': 1,\n",
    "    'out_channels': 6\n",
    "}\n",
    "\n",
    "model_config"
   ]
  },
  {
   "cell_type": "markdown",
   "metadata": {},
   "source": [
    "## Dataset Configuration"
   ]
  },
  {
   "cell_type": "code",
   "execution_count": 3,
   "metadata": {},
   "outputs": [],
   "source": [
    "from dataset import NpyDataset, SegyDataset\n",
    "from transformation import sliceT, traceT"
   ]
  },
  {
   "cell_type": "code",
   "execution_count": 4,
   "metadata": {},
   "outputs": [
    {
     "name": "stderr",
     "output_type": "stream",
     "text": [
      "/Users/alkhalmr/aramco/alphasei/src/dataset/NpyDataset.py:171: UserWarning: Range specified for z in path: {'data': '/Users/alkhalmr/aramco/alphasei/src/dataset/data/SEAM/seismic_train.npy', 'label': '/Users/alkhalmr/aramco/alphasei/src/dataset/data/SEAM/labels.npy', 'order': ('z', 'x', 'y'), 'range': {'x': (0, 0.3), 'y': (0, 0.3), 'z': (0, 0.3)}}, slicing the data and labels from (0, 1006) to (0, 301)\n",
      "  Warning.warn(msg)\n"
     ]
    }
   ],
   "source": [
    "\"\"\" NpyDataSet:\n",
    "Args:\n",
    "    paths (List[Dict[str, Any]]): A list of dictionaries containing the paths to the seismic data and labels.\n",
    "        Each dictionary should have the following structure:\n",
    "        {\n",
    "        'data': str,  # path to data file\n",
    "        'label': str,  # path to label file (optional) - if not provided, labels will be zeros (can be ignored/used in testing)\n",
    "        'order': Tuple[str, str, str],  # e.g., ('x', 'y', 'z') \n",
    "        'range': [Dict[str, Tuple[float, float]]]  # e.g., {'x': (0, 1), 'y': (0, 1), 'z': (0, 1)} (optional: any missing dimension will default to full range)\n",
    "        }\n",
    "    dt_transformations (Optional[Union[List[Callable], Callable]]): Transformations to apply to the data.\n",
    "    lb_transformations (Optional[Union[List[Callable], Callable]]): Transformations to apply to the labels.\n",
    "    dtype (np.dtype): The datatype to use for the data.\n",
    "    ltype (np.dtype): The datatype to use for the labels.\n",
    "    norm (int): Whether to normalize the data when loading. (0 = no normalization, 1 = normalize before applying transformations, 2 = normalize after applying transformations)\n",
    "    stride (int): The stride to use when creating slices or windows (default: 1). a.k.a. steps or jumps when indexing the data.\n",
    "    mode (str): The mode to use for the dataset. Options: 'windowed', 'slice', 'traces'.\n",
    "    line_mode (str): The line mode to use for slice and windowed modes. Options: 'both', 'iline', 'xline'.\n",
    "    window_w (int): The width of the windowed slice (only used in 'windowed' mode).\n",
    "    window_h (int): The height of the windowed slice (only used in 'windowed' mode).\n",
    "    stride_w (int): The stride to use when creating windowed slices on width (only used in 'windowed' mode).\n",
    "    stride_h (int): The stride to use when creating windowed slices on height (only used in 'windowed' mode).\n",
    "\"\"\"\n",
    "train_src = []\n",
    "\n",
    "file1 = {\n",
    "    'data' : '/Users/alkhalmr/aramco/alphasei/src/dataset/data/SEAM/seismic_train.npy',\n",
    "    'label' : '/Users/alkhalmr/aramco/alphasei/src/dataset/data/SEAM/labels.npy',\n",
    "    'order' : ('z', 'x', 'y'),\n",
    "    'range' : {'x': (0, 0.3), 'y': (0, 0.5), 'z': (0, 0.3)} # 70% of the data\n",
    "}\n",
    "\n",
    "train_src.append(file1)\n",
    "\n",
    "dt = [] \n",
    "lb = [] \n",
    "\n",
    "data_type = np.float32\n",
    "label_type = np.float32\n",
    "\n",
    "norm = 0 \n",
    "\n",
    "stride = 5\n",
    "\n",
    "mode = 'slice'\n",
    "\n",
    "line_mode = 'iline' # not needed in traces mode \n",
    "\n",
    "# only needed in windowed mode\n",
    "window_w = 128\n",
    "window_h = 128\n",
    "stride_w = 64\n",
    "stride_h = 64\n",
    "\n",
    "\n",
    "train_dataset= NpyDataset.NpyDataset(train_src, dt, lb, data_type, label_type, norm, stride, mode, line_mode, window_w, window_h, stride_w, stride_h)\n",
    "\n",
    "train_dataconfig = train_dataset.get_config()"
   ]
  },
  {
   "cell_type": "code",
   "execution_count": 5,
   "metadata": {},
   "outputs": [
    {
     "name": "stderr",
     "output_type": "stream",
     "text": [
      "/Users/alkhalmr/aramco/alphasei/src/dataset/NpyDataset.py:171: UserWarning: Range specified for z in path: {'data': '/Users/alkhalmr/aramco/alphasei/src/dataset/data/SEAM/seismic_train.npy', 'label': '/Users/alkhalmr/aramco/alphasei/src/dataset/data/SEAM/labels.npy', 'order': ('z', 'x', 'y'), 'range': {'x': (0.3, 0.5), 'y': (0.3, 0.5), 'z': (0, 0.3)}}, slicing the data and labels from (0, 1006) to (0, 301)\n",
      "  Warning.warn(msg)\n"
     ]
    }
   ],
   "source": [
    "val_src = []\n",
    "\n",
    "file1 = {\n",
    "    'data' : '/Users/alkhalmr/aramco/alphasei/src/dataset/data/SEAM/seismic_train.npy',\n",
    "    'label' : '/Users/alkhalmr/aramco/alphasei/src/dataset/data/SEAM/labels.npy',\n",
    "    'order' : ('z', 'x', 'y'),\n",
    "    'range' : {'x': (0.3, 0.5), 'y': (0, 0.5), 'z': (0, 0.3)} # 30% of the data\n",
    "}\n",
    "\n",
    "val_src.append(file1)\n",
    "\n",
    "val_dataset = NpyDataset.NpyDataset(val_src, dt, lb, data_type, label_type, norm, stride, mode, line_mode, window_w, window_h, stride_w, stride_h)\n",
    "\n",
    "val_dataconfig = val_dataset.get_config()"
   ]
  },
  {
   "cell_type": "code",
   "execution_count": 6,
   "metadata": {},
   "outputs": [
    {
     "data": {
      "text/plain": [
       "{'train': {'paths': [{'data': '/Users/alkhalmr/aramco/alphasei/src/dataset/data/SEAM/seismic_train.npy',\n",
       "    'label': '/Users/alkhalmr/aramco/alphasei/src/dataset/data/SEAM/labels.npy',\n",
       "    'order': ('z', 'x', 'y'),\n",
       "    'range': {'x': (0, 0.3), 'y': (0, 0.3), 'z': (0, 0.3)}}],\n",
       "  'dt_transformations': [],\n",
       "  'lb_transformations': [],\n",
       "  'dtype': 'float32',\n",
       "  'ltype': 'float32',\n",
       "  'norm': 0,\n",
       "  'mode': 'slice',\n",
       "  'line_mode': 'iline',\n",
       "  'window_w': 128,\n",
       "  'window_h': 128,\n",
       "  'stride_w': 64,\n",
       "  'stride_h': 64},\n",
       " 'val': {'paths': [{'data': '/Users/alkhalmr/aramco/alphasei/src/dataset/data/SEAM/seismic_train.npy',\n",
       "    'label': '/Users/alkhalmr/aramco/alphasei/src/dataset/data/SEAM/labels.npy',\n",
       "    'order': ('z', 'x', 'y'),\n",
       "    'range': {'x': (0.3, 0.5), 'y': (0.3, 0.5), 'z': (0, 0.3)}}],\n",
       "  'dt_transformations': [],\n",
       "  'lb_transformations': [],\n",
       "  'dtype': 'float32',\n",
       "  'ltype': 'float32',\n",
       "  'norm': 0,\n",
       "  'mode': 'slice',\n",
       "  'line_mode': 'iline',\n",
       "  'window_w': 128,\n",
       "  'window_h': 128,\n",
       "  'stride_w': 64,\n",
       "  'stride_h': 64},\n",
       " 'batch_size': 16,\n",
       " 'num_workers': 0}"
      ]
     },
     "execution_count": 6,
     "metadata": {},
     "output_type": "execute_result"
    }
   ],
   "source": [
    "dataset_config = {\n",
    "    'train': train_dataconfig,\n",
    "    'val': val_dataconfig,\n",
    "    'batch_size': 16,\n",
    "    'num_workers': 0,\n",
    "    # 'collate' : ''  # --  In NpyDataset: either 'window' or 'padded'\n",
    "    # 'collate_args' : {}\n",
    "}\n",
    "\n",
    "dataset_config"
   ]
  },
  {
   "cell_type": "markdown",
   "metadata": {},
   "source": [
    "## Training Configuration"
   ]
  },
  {
   "cell_type": "code",
   "execution_count": 7,
   "metadata": {},
   "outputs": [
    {
     "data": {
      "text/plain": [
       "{'loss': {'type': 'crossentropy'},\n",
       " 'optimizer': 'Adam',\n",
       " 'optimizer_params': {'lr': 0.001},\n",
       " 'scheduler': 'StepLR',\n",
       " 'scheduler_params': {'step_size': 10, 'gamma': 0.1},\n",
       " 'metrics': 'classification',\n",
       " 'metrics_params': {'data_range': 1.0, 'full': True, 'num_classes': 6},\n",
       " 'data_transforms': {'type': 'slice', 'transformations': []},\n",
       " 'label_transforms': {'type': 'slice', 'transformations': []},\n",
       " 'epochs': 2}"
      ]
     },
     "execution_count": 7,
     "metadata": {},
     "output_type": "execute_result"
    }
   ],
   "source": [
    "train_config = {\n",
    "    'loss': {\n",
    "        'type': 'crossentropy'  # Loss function type (e.g., l1, l2, crossentropy)\n",
    "    },\n",
    "    'optimizer': 'Adam',  # Optimizer (Adam/AdamW/SGD/RMSprop/Adagrad/Adadelta)\n",
    "    'optimizer_params': {  # Optimizer parameters (e.g., weight_decay, momentum, etc.)\n",
    "        'lr': 0.001,\n",
    "        }, \n",
    "    'scheduler': 'StepLR',  # Learning rate scheduler (StepLR/MultiStepLR/ExponentialLR/CosineAnnealingLR/CyclicLR)\n",
    "    'scheduler_params': {\n",
    "        'step_size': 10,  # For StepLR\n",
    "        'gamma': 0.1  # For StepLR and ExponentialLR\n",
    "        # modify for other schedulers as needed\n",
    "    },\n",
    "    'metrics': 'classification',  # Metrics type (regression/classification)\n",
    "    'metrics_params': {\n",
    "    'data_range': 1.0,  # Data range for regression metrics\n",
    "    'full': True,  # Use full/light regression metrics? (True/False)\n",
    "    'num_classes': 6,  # Number of classes (for classification)\n",
    "    },    \n",
    "    'data_transforms': {\n",
    "        'type': 'slice',  # Data transform type (slice/trace)\n",
    "        'transformations': [\n",
    "            # ('normalize', {}),  # Data normalization\n",
    "            # ('scale', {'factor': 5.0})  # Data scaling\n",
    "        ],\n",
    "    },\n",
    "    'label_transforms': {\n",
    "        'type': 'slice',  # Label transform type (slice/trace)\n",
    "        'transformations': [\n",
    "          \n",
    "        ],\n",
    "    },\n",
    "    'epochs': 2,  # Number of epochs\n",
    "}\n",
    "\n",
    "train_config"
   ]
  },
  {
   "cell_type": "markdown",
   "metadata": {},
   "source": [
    "## Generate Configuration Files"
   ]
  },
  {
   "cell_type": "code",
   "execution_count": 8,
   "metadata": {},
   "outputs": [
    {
     "name": "stdout",
     "output_type": "stream",
     "text": [
      "Configuration saved to model_config.json\n",
      "Configuration saved to dataset_config.json\n",
      "Configuration saved to train_config.json\n",
      "All configurations have been generated and saved in the 'configs' directory.\n"
     ]
    }
   ],
   "source": [
    "save_config(model_config, \"model_config.json\")\n",
    "save_config(dataset_config, \"dataset_config.json\")\n",
    "save_config(train_config, \"train_config.json\")\n",
    "\n",
    "print(\"All configurations have been generated and saved in the 'configs' directory.\")"
   ]
  }
 ],
 "metadata": {
  "kernelspec": {
   "display_name": "Python 3",
   "language": "python",
   "name": "python3"
  },
  "language_info": {
   "codemirror_mode": {
    "name": "ipython",
    "version": 3
   },
   "file_extension": ".py",
   "mimetype": "text/x-python",
   "name": "python",
   "nbconvert_exporter": "python",
   "pygments_lexer": "ipython3",
   "version": "3.12.4"
  }
 },
 "nbformat": 4,
 "nbformat_minor": 4
}
